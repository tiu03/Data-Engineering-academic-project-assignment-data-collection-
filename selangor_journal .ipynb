{
 "cells": [
  {
   "cell_type": "markdown",
   "id": "e9c33f6e-f9a6-408e-b9b4-b3e5c70f12af",
   "metadata": {},
   "source": [
    "# 1.0 Data Collection (Web Scraping)\n",
    "\n",
    "###### Author: Terence Tiu Chuan Jie \n",
    "###### Last Edited: 10/4/2025\n"
   ]
  },
  {
   "cell_type": "markdown",
   "id": "72ebb90f-ed15-4c65-8ca1-57981ffc68cc",
   "metadata": {},
   "source": [
    "## selangor_journal"
   ]
  },
  {
   "cell_type": "markdown",
   "id": "50909ff3-56d4-4f78-834a-818ed5882d43",
   "metadata": {},
   "source": [
    "###### tips for downloadchrome drive for selenium and the driver https://github.com/password123456/setup-selenium-with-chrome-driver-on-ubuntu_debian#step-2-download-google-chrome-stable-package"
   ]
  },
  {
   "cell_type": "code",
   "execution_count": 1,
   "id": "ad14ee9f-e336-4904-b108-db3157eabbab",
   "metadata": {},
   "outputs": [
    {
     "name": "stderr",
     "output_type": "stream",
     "text": [
      "25/04/10 21:26:47 WARN Utils: Your hostname, tiu. resolves to a loopback address: 127.0.1.1; using 10.255.255.254 instead (on interface lo)\n",
      "25/04/10 21:26:47 WARN Utils: Set SPARK_LOCAL_IP if you need to bind to another address\n",
      "Setting default log level to \"WARN\".\n",
      "To adjust logging level use sc.setLogLevel(newLevel). For SparkR, use setLogLevel(newLevel).\n",
      "25/04/10 21:26:48 WARN NativeCodeLoader: Unable to load native-hadoop library for your platform... using builtin-java classes where applicable\n",
      "25/04/10 21:26:49 WARN Utils: Service 'SparkUI' could not bind on port 4040. Attempting port 4041.\n"
     ]
    }
   ],
   "source": [
    "from pyspark.sql import SparkSession\n",
    "import os\n",
    "import sys\n",
    "\n",
    "sys.path.append(r'/home/student/data_collected')\n",
    "\n",
    "import time\n",
    "import pickle\n",
    "import csv\n",
    "spark = SparkSession.builder.appName('selangorjournal').getOrCreate()"
   ]
  },
  {
   "cell_type": "code",
   "execution_count": 5,
   "id": "1bd65a7d-a071-4dbd-8b2e-53bdf1a298cc",
   "metadata": {},
   "outputs": [
    {
     "name": "stdout",
     "output_type": "stream",
     "text": [
      "Collected 24 article URLs.\n",
      "Scraped 24 articles.\n",
      "Failed to write CSV: [Errno 2] No such file or directory: 'c:/Users/tiu03/selangor_journal_new_test.csv'\n"
     ]
    }
   ],
   "source": [
    "import time\n",
    "import pickle\n",
    "import csv\n",
    "from selenium import webdriver\n",
    "from selenium.webdriver.chrome.options import Options\n",
    "from selenium.webdriver.common.by import By\n",
    "from selenium.webdriver.support.ui import WebDriverWait\n",
    "from selenium.webdriver.support import expected_conditions as EC\n",
    "from selenium.common.exceptions import NoSuchElementException\n",
    "from fake_useragent import UserAgent\n",
    "from webdriver_manager.chrome import ChromeDriverManager\n",
    "\n",
    "\n",
    "class SelangorJournalScraper:\n",
    "    def __init__(self, base_url, pages=2):\n",
    "        self.base_url = base_url\n",
    "        self.pages = pages\n",
    "        self.section_urls = self.generate_section_urls()\n",
    "        self.news_urls = []\n",
    "        self.data = []\n",
    "\n",
    "    def generate_section_urls(self):\n",
    "        urls = [self.base_url]\n",
    "        for page in range(2, self.pages + 1):\n",
    "            urls.append(f\"{self.base_url}page/{page}/\")\n",
    "        return urls\n",
    "\n",
    "    def _create_driver(self):\n",
    "        user_agent = UserAgent()\n",
    "        options = Options()\n",
    "        options.add_argument(\"--headless\")\n",
    "        options.add_argument(f\"user-agent={user_agent.random}\")\n",
    "        return webdriver.Chrome(service=Service(ChromeDriverManager().install()), options=options)\n",
    "\n",
    "    def collect_article_urls(self):\n",
    "        for section_url in self.section_urls:\n",
    "            driver = self._create_driver()\n",
    "            try:\n",
    "                driver.get(section_url)\n",
    "                time.sleep(2)\n",
    "                url_elements = driver.find_elements(By.CSS_SELECTOR, '.penci-link-post.penci-image-holder.penci-disable-lazy')\n",
    "                for element in url_elements:\n",
    "                    href = element.get_attribute('href')\n",
    "                    if href:\n",
    "                        self.news_urls.append(href)\n",
    "            except Exception as e:\n",
    "                print(f\"Error on section page {section_url}: {e}\")\n",
    "            finally:\n",
    "                driver.quit()\n",
    "        print(f\"Collected {len(self.news_urls)} article URLs.\")\n",
    "\n",
    "    def scrape_articles(self):\n",
    "        for url in self.news_urls:\n",
    "            driver = self._create_driver()\n",
    "            try:\n",
    "                driver.get(url)\n",
    "                WebDriverWait(driver, 10).until(\n",
    "                    EC.presence_of_element_located((By.TAG_NAME, \"h1\"))\n",
    "                )\n",
    "\n",
    "                headline = driver.find_element(By.TAG_NAME, \"h1\").text\n",
    "                date = driver.find_element(By.TAG_NAME, \"time\").get_attribute('datetime')\n",
    "\n",
    "                content = ''\n",
    "                possible_classes = [\"dable-content-wrapper\", \"entry-content\", \"article-content\"]\n",
    "                for cls in possible_classes:\n",
    "                    if driver.find_elements(By.CLASS_NAME, cls):\n",
    "                        wrapper = driver.find_element(By.CLASS_NAME, cls)\n",
    "                        paragraphs = wrapper.find_elements(By.TAG_NAME, \"p\")\n",
    "                        content = ' '.join([p.text for p in paragraphs])\n",
    "                        break\n",
    "\n",
    "                if content:\n",
    "                    self.data.append({\n",
    "                        'url': url,\n",
    "                        'headline': headline,\n",
    "                        'date of published': date,\n",
    "                        'article_content': content\n",
    "                    })\n",
    "                else:\n",
    "                    print(f\"No content found on {url}\")\n",
    "\n",
    "            except Exception as e:\n",
    "                print(f\"Error scraping {url}: {e}\")\n",
    "            finally:\n",
    "                driver.quit()\n",
    "        print(f\"Scraped {len(self.data)} articles.\")\n",
    "\n",
    "    def export_to_csv(self, filename):\n",
    "        try:\n",
    "            with open(filename, 'w', encoding='utf-8-sig', newline='') as csvfile:\n",
    "                fieldnames = ['url', 'headline', 'date of published', 'article_content']\n",
    "                writer = csv.DictWriter(csvfile, fieldnames=fieldnames)\n",
    "                writer.writeheader()\n",
    "                for item in self.data:\n",
    "                    writer.writerow(item)\n",
    "            print(f\"Exported to {filename}\")\n",
    "        except Exception as e:\n",
    "            print(f\"Failed to write CSV: {e}\")\n",
    "\n",
    "\n",
    "# === Example Usage ===\n",
    "if __name__ == \"__main__\":\n",
    "    scraper = SelangorJournalScraper(\n",
    "        base_url='https://selangorjournal.my/category/current/crime/',\n",
    "        pages=2\n",
    "    )\n",
    "\n",
    "    scraper.collect_article_urls()\n",
    "    scraper.scrape_articles()\n",
    "    scraper.export_to_csv('selangor_journal_new_test.csv')\n"
   ]
  },
  {
   "cell_type": "code",
   "execution_count": 6,
   "id": "b44be976-bd4d-4f5a-a8b1-548b8d6ac19d",
   "metadata": {},
   "outputs": [
    {
     "name": "stdout",
     "output_type": "stream",
     "text": [
      "Exported to selangor_journal_new_test.csv\n"
     ]
    }
   ],
   "source": []
  },
  {
   "cell_type": "code",
   "execution_count": 7,
   "id": "4f5f667b-1ea2-48cb-a1b2-efbb6d38b555",
   "metadata": {},
   "outputs": [],
   "source": [
    "spark.stop()"
   ]
  },
  {
   "cell_type": "code",
   "execution_count": null,
   "id": "4f9b6251-8b1d-402c-bc79-892648d64cca",
   "metadata": {},
   "outputs": [],
   "source": []
  }
 ],
 "metadata": {
  "kernelspec": {
   "display_name": "de-venv",
   "language": "python",
   "name": "de-venv"
  },
  "language_info": {
   "codemirror_mode": {
    "name": "ipython",
    "version": 3
   },
   "file_extension": ".py",
   "mimetype": "text/x-python",
   "name": "python",
   "nbconvert_exporter": "python",
   "pygments_lexer": "ipython3",
   "version": "3.10.12"
  }
 },
 "nbformat": 4,
 "nbformat_minor": 5
}
