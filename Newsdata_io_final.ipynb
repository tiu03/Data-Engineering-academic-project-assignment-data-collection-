{
 "cells": [
  {
   "cell_type": "markdown",
   "id": "e5366766-4d63-4bf5-b3ef-04115f2b1cfa",
   "metadata": {},
   "source": [
    "# 1.0 Data Collection (Web Crawling)\n",
    "\n",
    "###### Author: Terence Tiu Chuan Jie \n",
    "###### Last Edited:9/4/2025\n"
   ]
  },
  {
   "cell_type": "markdown",
   "id": "bff32082-67ec-483f-9d8d-c91eb971bcbf",
   "metadata": {},
   "source": [
    "## 1.Newsdata io"
   ]
  },
  {
   "cell_type": "code",
   "execution_count": 2,
   "id": "253f3d89-2c54-4b6e-9065-3748ad22679b",
   "metadata": {},
   "outputs": [
    {
     "name": "stderr",
     "output_type": "stream",
     "text": [
      "25/04/09 22:59:27 WARN Utils: Your hostname, tiu. resolves to a loopback address: 127.0.1.1; using 10.255.255.254 instead (on interface lo)\n",
      "25/04/09 22:59:27 WARN Utils: Set SPARK_LOCAL_IP if you need to bind to another address\n",
      "Setting default log level to \"WARN\".\n",
      "To adjust logging level use sc.setLogLevel(newLevel). For SparkR, use setLogLevel(newLevel).\n",
      "25/04/09 22:59:28 WARN NativeCodeLoader: Unable to load native-hadoop library for your platform... using builtin-java classes where applicable\n",
      "25/04/09 22:59:29 WARN Utils: Service 'SparkUI' could not bind on port 4040. Attempting port 4041.\n"
     ]
    }
   ],
   "source": [
    "from pyspark.sql import SparkSession\n",
    "\n",
    "import sys\n",
    "\n",
    "sys.path.append(r'/home/student/data_collected')\n",
    "\n",
    "\n",
    "from newsdataapi import NewsDataApiClient\n",
    "import pickle\n",
    "import csv  \n",
    "\n",
    "spark = SparkSession.builder.appName('Newsdata io').getOrCreate()"
   ]
  },
  {
   "cell_type": "code",
   "execution_count": null,
   "id": "ee2f31ed-1409-4359-b4bc-dc2a40ae4c0d",
   "metadata": {},
   "outputs": [],
   "source": [
    "\n",
    "api = NewsDataApiClient(apikey=\"pub_\")\n"
   ]
  },
  {
   "cell_type": "code",
   "execution_count": 4,
   "id": "af9def5a-3fca-48fe-be2b-7035a45b3be3",
   "metadata": {},
   "outputs": [
    {
     "name": "stderr",
     "output_type": "stream",
     "text": [
      "/tmp/ipykernel_29599/2805961141.py:15: DeprecationWarning: This method is deprecated and will be removed in upcoming updates, Instead use latest_api()\n",
      "  response = self.api.news_api(\n"
     ]
    },
    {
     "name": "stdout",
     "output_type": "stream",
     "text": [
      "Error: {'status': 'error', 'results': {'message': 'You exceeded your assigned API credits, please check your plan and billing details.', 'code': 'ApiLimitExceeded'}}\n",
      "Total articles retrieved: 190\n",
      "News 0: {'article_id': '7cf5fadd91226f2920449067099412b0', 'title': 'Public Safety Logs — Monday, April 7, 2025', 'link': 'https://www.romesentinel.com/news/public-safety/public-safety-logs-monday-april-7-2025/article_fe6ead05-7304-4aa5-bc11-ba6926b5a761.html', 'keywords': None, 'creator': None, 'description': 'Rome Fire Department log', 'content': 'ONLY AVAILABLE IN PAID PLANS', 'pubDate': '2025-04-09 02:00:00', 'pubDateTZ': 'UTC', 'image_url': None, 'video_url': None, 'source_id': 'romesentinel', 'source_name': 'Romesentinel', 'source_priority': 38985, 'source_url': 'https://www.romesentinel.com', 'source_icon': 'https://i.bytvi.com/domain_icons/romesentinel.jpg', 'language': 'english', 'country': ['united states of america'], 'category': ['crime'], 'sentiment': 'ONLY AVAILABLE IN PROFESSIONAL AND CORPORATE PLANS', 'sentiment_stats': 'ONLY AVAILABLE IN PROFESSIONAL AND CORPORATE PLANS', 'ai_tag': 'ONLY AVAILABLE IN PROFESSIONAL AND CORPORATE PLANS', 'ai_region': 'ONLY AVAILABLE IN CORPORATE PLANS', 'ai_org': 'ONLY AVAILABLE IN CORPORATE PLANS', 'duplicate': False}\n",
      "News 1: {'article_id': 'e13fe43d5a15ad308d51141e5185fd8c', 'title': 'Bridgton man charged with threatening to ‘shoot’ Trump', 'link': 'https://www.sunjournal.com/2025/04/08/bridgton-man-charged-with-threatening-to-shoot-trump/', 'keywords': ['maine crime'], 'creator': None, 'description': 'The man allegedly told an undercover Secret Service agent that he planned to kill the president.', 'content': 'ONLY AVAILABLE IN PAID PLANS', 'pubDate': '2025-04-09 01:25:55', 'pubDateTZ': 'UTC', 'image_url': None, 'video_url': None, 'source_id': 'sunjournal', 'source_name': 'Lewiston Sun Journal', 'source_priority': 12472, 'source_url': 'https://www.sunjournal.com', 'source_icon': 'https://i.bytvi.com/domain_icons/sunjournal.jpg', 'language': 'english', 'country': ['united states of america'], 'category': ['crime'], 'sentiment': 'ONLY AVAILABLE IN PROFESSIONAL AND CORPORATE PLANS', 'sentiment_stats': 'ONLY AVAILABLE IN PROFESSIONAL AND CORPORATE PLANS', 'ai_tag': 'ONLY AVAILABLE IN PROFESSIONAL AND CORPORATE PLANS', 'ai_region': 'ONLY AVAILABLE IN CORPORATE PLANS', 'ai_org': 'ONLY AVAILABLE IN CORPORATE PLANS', 'duplicate': True}\n",
      "News 2: {'article_id': '30676a15f69bd19d54ea1d1f6db7357a', 'title': 'Bridgton man charged with threatening to ‘shoot’ Trump', 'link': 'https://www.pressherald.com/2025/04/08/bridgton-man-charged-with-threatening-to-shoot-trump/', 'keywords': ['cops &amp; courts'], 'creator': None, 'description': 'The man allegedly told an undercover Secret Service agent that he planned to kill the president.', 'content': 'ONLY AVAILABLE IN PAID PLANS', 'pubDate': '2025-04-09 01:25:55', 'pubDateTZ': 'UTC', 'image_url': None, 'video_url': None, 'source_id': 'pressherald', 'source_name': 'The Portland Press Herald', 'source_priority': 6760, 'source_url': 'https://www.pressherald.com', 'source_icon': 'https://i.bytvi.com/domain_icons/pressherald.png', 'language': 'english', 'country': ['united states of america'], 'category': ['crime'], 'sentiment': 'ONLY AVAILABLE IN PROFESSIONAL AND CORPORATE PLANS', 'sentiment_stats': 'ONLY AVAILABLE IN PROFESSIONAL AND CORPORATE PLANS', 'ai_tag': 'ONLY AVAILABLE IN PROFESSIONAL AND CORPORATE PLANS', 'ai_region': 'ONLY AVAILABLE IN CORPORATE PLANS', 'ai_org': 'ONLY AVAILABLE IN CORPORATE PLANS', 'duplicate': False}\n",
      "News 3: {'article_id': 'b41d24167d1d07fde3939216dda18e79', 'title': 'Woman stabbed in the neck inside Manhattan homeless shelter', 'link': 'https://www.nydailynews.com/2025/04/08/woman-stabbed-in-the-neck-inside-manhattan-homeless-shelter/', 'keywords': ['nyc crime', 'local news', 'news', 'latest headlines', 'crime and public safety'], 'creator': ['Nicholas Williams'], 'description': 'The 41-year-old victim started arguing with her assailant around 1:59 p.m. at the Bowery Hanbee Hotel on Grand St. and Bowery in Chinatown. After the attack, police were called and the victim, who had a stab wound to her neck, was rushed by EMS to Bellevue Hospital, where she was in stable condition.', 'content': 'ONLY AVAILABLE IN PAID PLANS', 'pubDate': '2025-04-09 00:56:14', 'pubDateTZ': 'UTC', 'image_url': 'https://www.nydailynews.com/wp-content/uploads/migration/2023/01/03/OBBVSKLCY5HTXE6SNDAR2JICZM.jpg?strip=all&w=1400px', 'video_url': None, 'source_id': 'nydailynews', 'source_name': 'New York Daily News', 'source_priority': 1670, 'source_url': 'https://www.nydailynews.com', 'source_icon': 'https://i.bytvi.com/domain_icons/nydailynews.jpg', 'language': 'english', 'country': ['united states of america'], 'category': ['crime'], 'sentiment': 'ONLY AVAILABLE IN PROFESSIONAL AND CORPORATE PLANS', 'sentiment_stats': 'ONLY AVAILABLE IN PROFESSIONAL AND CORPORATE PLANS', 'ai_tag': 'ONLY AVAILABLE IN PROFESSIONAL AND CORPORATE PLANS', 'ai_region': 'ONLY AVAILABLE IN CORPORATE PLANS', 'ai_org': 'ONLY AVAILABLE IN CORPORATE PLANS', 'duplicate': False}\n",
      "News 4: {'article_id': '5b8bf7550789bb4d06548bfbcf3d4e23', 'title': 'Police Logs 4/9/25', 'link': 'https://itemlive.com/2025/04/08/police-logs-4-9-25/', 'keywords': ['police logs', 'police/fire', 'police departments', 'crime'], 'creator': ['Daily Item StaffDaily Item StaffDaily Item Staff'], 'description': 'Daily Item StaffAll address information, particularly arrests, reflects police records. In the event of a perceived inaccuracy, it is the sole responsibility of the concerned party to contact the relevant police department and have the department issue a notice of correction to The Daily Item. LYNN Arrests Jayron Lucas Chajil, 30, of Western Avenue, was arrested at [...]The post Police Logs 4/9/25 appeared first on Itemlive.', 'content': 'ONLY AVAILABLE IN PAID PLANS', 'pubDate': '2025-04-09 00:50:28', 'pubDateTZ': 'UTC', 'image_url': 'https://itemlive.com/wp-content/uploads/2024/07/Police-Lights-Log-e1535672772133-500x434-1-e1712842409371-1.jpg', 'video_url': None, 'source_id': 'itemlive', 'source_name': 'Itemlive', 'source_priority': 27667, 'source_url': 'https://itemlive.com', 'source_icon': 'https://i.bytvi.com/domain_icons/itemlive.png', 'language': 'english', 'country': ['united states of america'], 'category': ['crime'], 'sentiment': 'ONLY AVAILABLE IN PROFESSIONAL AND CORPORATE PLANS', 'sentiment_stats': 'ONLY AVAILABLE IN PROFESSIONAL AND CORPORATE PLANS', 'ai_tag': 'ONLY AVAILABLE IN PROFESSIONAL AND CORPORATE PLANS', 'ai_region': 'ONLY AVAILABLE IN CORPORATE PLANS', 'ai_org': 'ONLY AVAILABLE IN CORPORATE PLANS', 'duplicate': False}\n",
      "All keys found in articles: {'title', 'description', 'duplicate', 'image_url', 'language', 'ai_region', 'country', 'sentiment', 'category', 'source_priority', 'video_url', 'pubDateTZ', 'creator', 'link', 'source_icon', 'content', 'source_name', 'ai_tag', 'article_id', 'keywords', 'source_url', 'pubDate', 'sentiment_stats', 'source_id', 'ai_org'}\n",
      "Exported 190 articles to newsdata_io_9_4_test.csv\n"
     ]
    }
   ],
   "source": [
    "import csv\n",
    "\n",
    "class NewsFetcher:\n",
    "    def __init__(self, api, country='us', category='crime', language='en'):\n",
    "        self.api = api\n",
    "        self.country = country\n",
    "        self.category = category\n",
    "        self.language = language\n",
    "        self.news_list = []\n",
    "\n",
    "    def fetch_all_news(self):\n",
    "        page = None\n",
    "        while True:\n",
    "            try:\n",
    "                response = self.api.news_api(\n",
    "                    country=self.country,\n",
    "                    category=self.category,\n",
    "                    language=self.language,\n",
    "                    page=page\n",
    "                )\n",
    "                news = response.get('results', [])\n",
    "                self.news_list.extend(news)\n",
    "\n",
    "                page = response.get('nextPage', None)\n",
    "                if not page:\n",
    "                    print(\"No more pages available.\")\n",
    "                    break\n",
    "            except Exception as e:\n",
    "                print(f\"Error: {e}\")\n",
    "                break\n",
    "\n",
    "    def get_news(self):\n",
    "        return self.news_list\n",
    "\n",
    "\n",
    "class NewsAnalyzer:\n",
    "    def __init__(self, news_list):\n",
    "        self.news_list = news_list\n",
    "\n",
    "    def display_sample_news(self, count=5):\n",
    "        for i, news in enumerate(self.news_list[:count]):\n",
    "            print(f\"News {i}: {news}\")\n",
    "\n",
    "    def get_all_keys(self):\n",
    "        all_keys = set()\n",
    "        for news in self.news_list:\n",
    "            all_keys.update(news.keys())\n",
    "        return all_keys\n",
    "\n",
    "\n",
    "class NewsExporter:\n",
    "    def __init__(self, news_list, all_keys):\n",
    "        self.news_list = news_list\n",
    "        self.all_keys = list(all_keys)\n",
    "\n",
    "    def export_to_csv(self, filename='newsdata_io_9_4_test.csv'):\n",
    "        try:\n",
    "            with open(filename, 'w', newline='', encoding='utf-8') as csvfile:\n",
    "                writer = csv.DictWriter(csvfile, fieldnames=self.all_keys)\n",
    "                writer.writeheader()\n",
    "                for news in self.news_list:\n",
    "                    writer.writerow(news)\n",
    "            print(f\"Exported {len(self.news_list)} articles to {filename}\")\n",
    "        except Exception as e:\n",
    "            print(f\"Failed to write CSV: {e}\")\n",
    "\n",
    "\n",
    "# === Usage ===\n",
    "# `api` is already defined and connected\n",
    "\n",
    "fetcher = NewsFetcher(api)\n",
    "fetcher.fetch_all_news()\n",
    "\n",
    "news_list = fetcher.get_news()\n",
    "print(f\"Total articles retrieved: {len(news_list)}\")\n",
    "\n",
    "analyzer = NewsAnalyzer(news_list)\n",
    "analyzer.display_sample_news()\n",
    "all_keys = analyzer.get_all_keys()\n",
    "print(\"All keys found in articles:\", all_keys)\n",
    "\n",
    "exporter = NewsExporter(news_list, all_keys)\n",
    "exporter.export_to_csv()\n"
   ]
  },
  {
   "cell_type": "code",
   "execution_count": 5,
   "id": "822ed761-d5e2-4902-92ba-df68340598c9",
   "metadata": {},
   "outputs": [],
   "source": [
    "spark.stop()"
   ]
  },
  {
   "cell_type": "code",
   "execution_count": null,
   "id": "cba7ea40-a835-42c3-8bb8-6d58bab9e212",
   "metadata": {},
   "outputs": [],
   "source": []
  },
  {
   "cell_type": "code",
   "execution_count": null,
   "id": "08afb50b-23b5-4855-8cd9-ebdad8c4500c",
   "metadata": {},
   "outputs": [],
   "source": [
    "## if u wanna sue for pre- preprocessing for here some sample ideal \n",
    "import json\n",
    "\n",
    "for news in news_list:\n",
    "    for key, value in news.items():\n",
    "        if isinstance(value, list):\n",
    "            news[key] = ', '.join(value) if value else None  # Convert list to string\n",
    "        elif isinstance(value, dict):\n",
    "            news[key] = json.dumps(value)  # Convert dict to JSON string\n"
   ]
  }
 ],
 "metadata": {
  "kernelspec": {
   "display_name": "de-venv",
   "language": "python",
   "name": "de-venv"
  },
  "language_info": {
   "codemirror_mode": {
    "name": "ipython",
    "version": 3
   },
   "file_extension": ".py",
   "mimetype": "text/x-python",
   "name": "python",
   "nbconvert_exporter": "python",
   "pygments_lexer": "ipython3",
   "version": "3.10.12"
  }
 },
 "nbformat": 4,
 "nbformat_minor": 5
}
