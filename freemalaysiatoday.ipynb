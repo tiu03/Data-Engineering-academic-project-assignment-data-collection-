{
 "cells": [
  {
   "cell_type": "markdown",
   "id": "d8af9e50-5219-479e-977e-13e527f4b722",
   "metadata": {},
   "source": [
    "# 1.0 Data Collection (Web Scraping)\n",
    "\n",
    "###### Author: Terence Tiu Chuan Jie \n",
    "###### Last Edited: 10/4/202"
   ]
  },
  {
   "cell_type": "markdown",
   "id": "efa578f0-7507-4488-beff-0389bafb2fa6",
   "metadata": {},
   "source": [
    "## freemalaysiatoday"
   ]
  },
  {
   "cell_type": "markdown",
   "id": "01d6f6c1-d6a6-4d03-8c0e-72364fc855d4",
   "metadata": {},
   "source": [
    "###### tips for downloadchrome drive for selenium and the driver https://github.com/password123456/setup-selenium-with-chrome-driver-on-ubuntu_debian#step-2-download-google-chrome-stable-package"
   ]
  },
  {
   "cell_type": "code",
   "execution_count": 1,
   "id": "9f56d5d3-8814-4470-b5c6-a25a047368ea",
   "metadata": {},
   "outputs": [
    {
     "name": "stderr",
     "output_type": "stream",
     "text": [
      "25/04/10 22:02:54 WARN Utils: Your hostname, tiu. resolves to a loopback address: 127.0.1.1; using 10.255.255.254 instead (on interface lo)\n",
      "25/04/10 22:02:54 WARN Utils: Set SPARK_LOCAL_IP if you need to bind to another address\n",
      "Setting default log level to \"WARN\".\n",
      "To adjust logging level use sc.setLogLevel(newLevel). For SparkR, use setLogLevel(newLevel).\n",
      "25/04/10 22:02:55 WARN NativeCodeLoader: Unable to load native-hadoop library for your platform... using builtin-java classes where applicable\n"
     ]
    }
   ],
   "source": [
    "from pyspark.sql import SparkSession\n",
    "import os\n",
    "import sys\n",
    "\n",
    "sys.path.append(r'/home/student/data_collected')\n",
    "\n",
    "import time\n",
    "import pickle\n",
    "import csv\n",
    "spark = SparkSession.builder.appName('Free Malaysia Today').getOrCreate()"
   ]
  },
  {
   "cell_type": "code",
   "execution_count": 2,
   "id": "3a98d00d-bef7-4423-88af-f50af7993eda",
   "metadata": {},
   "outputs": [
    {
     "name": "stdout",
     "output_type": "stream",
     "text": [
      "Collected 48 article URLs.\n",
      "Scraped 48 articles.\n",
      "Exported to freemalaysiatoday_police_articles.csv\n"
     ]
    }
   ],
   "source": [
    "import csv\n",
    "import time\n",
    "from selenium import webdriver\n",
    "from selenium.webdriver.chrome.options import Options\n",
    "from selenium.webdriver.chrome.service import Service\n",
    "from selenium.webdriver.common.by import By\n",
    "from selenium.webdriver.support.ui import WebDriverWait\n",
    "from selenium.webdriver.support import expected_conditions as EC\n",
    "from selenium.common.exceptions import NoSuchElementException\n",
    "from webdriver_manager.chrome import ChromeDriverManager\n",
    "\n",
    "\n",
    "class ArticleScraper:\n",
    "    def __init__(self, base_url):\n",
    "        self.base_url = base_url\n",
    "        self.driver = self._init_driver()\n",
    "        self.article_urls = []\n",
    "        self.articles_data = []\n",
    "\n",
    "    def _init_driver(self):\n",
    "        options = Options()\n",
    "        options.add_argument(\"--headless\")\n",
    "        return webdriver.Chrome(service=Service(ChromeDriverManager().install()), options=options)\n",
    "\n",
    "    def scroll_and_load_articles(self):\n",
    "        self.driver.get(self.base_url)\n",
    "        last_height = self.driver.execute_script(\"return document.body.scrollHeight\")\n",
    "\n",
    "        while True:\n",
    "            self.driver.execute_script(\"window.scrollTo(0, document.body.scrollHeight);\")\n",
    "            time.sleep(2)\n",
    "\n",
    "            try:\n",
    "                view_more = WebDriverWait(self.driver, 5).until(\n",
    "                    EC.element_to_be_clickable((By.CSS_SELECTOR, \"button.inline-flex.items-center\"))\n",
    "                )\n",
    "                view_more.click()\n",
    "                time.sleep(2)\n",
    "            except Exception:\n",
    "                break\n",
    "\n",
    "            new_height = self.driver.execute_script(\"return document.body.scrollHeight\")\n",
    "            if new_height == last_height:\n",
    "                break\n",
    "            last_height = new_height\n",
    "\n",
    "    def collect_article_urls(self):\n",
    "        articles = self.driver.find_elements(By.CSS_SELECTOR, 'section > article > a')\n",
    "        self.article_urls = [a.get_attribute('href') for a in articles if a.get_attribute('href')]\n",
    "        print(f\"Collected {len(self.article_urls)} article URLs.\")\n",
    "\n",
    "    def extract_article_data(self, url):\n",
    "        self.driver.get(url)\n",
    "        wait = WebDriverWait(self.driver, 10)\n",
    "        data = {'url': url}\n",
    "\n",
    "        try:\n",
    "            data['headline'] = wait.until(EC.presence_of_element_located((By.TAG_NAME, 'h1'))).text\n",
    "        except NoSuchElementException:\n",
    "            data['headline'] = None\n",
    "\n",
    "        try:\n",
    "            data['author'] = self.driver.find_element(By.CSS_SELECTOR, '[class*=\"author\"]').text\n",
    "        except NoSuchElementException:\n",
    "            data['author'] = None\n",
    "\n",
    "        try:\n",
    "            data['publish_time'] = self.driver.find_element(By.CSS_SELECTOR, '[property=\"article:published_time\"]').get_attribute('content')\n",
    "        except NoSuchElementException:\n",
    "            data['publish_time'] = None\n",
    "\n",
    "        try:\n",
    "            paragraphs = self.driver.find_elements(By.CSS_SELECTOR, 'article p')\n",
    "            data['article_content'] = '\\n'.join([p.text for p in paragraphs if p.text])\n",
    "        except NoSuchElementException:\n",
    "            data['article_content'] = None\n",
    "\n",
    "        return data\n",
    "\n",
    "    def scrape_all_articles(self):\n",
    "        for url in self.article_urls:\n",
    "            try:\n",
    "                article_data = self.extract_article_data(url)\n",
    "                self.articles_data.append(article_data)\n",
    "            except Exception as e:\n",
    "                print(f\"Error scraping {url}: {e}\")\n",
    "        print(f\"Scraped {len(self.articles_data)} articles.\")\n",
    "\n",
    "    def export_to_csv(self, filename):\n",
    "        try:\n",
    "            with open(filename, 'w', encoding='utf-8-sig', newline='') as csvfile:\n",
    "                fieldnames = ['url', 'headline', 'author', 'publish_time', 'article_content']\n",
    "                writer = csv.DictWriter(csvfile, fieldnames=fieldnames)\n",
    "                writer.writeheader()\n",
    "                for article in self.articles_data:\n",
    "                    writer.writerow(article)\n",
    "            print(f\"Exported to {filename}\")\n",
    "        except Exception as e:\n",
    "            print(f\"Failed to export CSV: {e}\")\n",
    "\n",
    "    def quit(self):\n",
    "        self.driver.quit()\n",
    "\n",
    "\n",
    "# === Usage ===\n",
    "if __name__ == \"__main__\":\n",
    "    scraper = ArticleScraper(\"https://www.freemalaysiatoday.com/category/tag/police/\")\n",
    "\n",
    "    scraper.scroll_and_load_articles()\n",
    "    scraper.collect_article_urls()\n",
    "    scraper.scrape_all_articles()\n",
    "    scraper.export_to_csv(\"freemalaysiatoday_police_articles.csv\")\n",
    "    scraper.quit()\n"
   ]
  },
  {
   "cell_type": "code",
   "execution_count": 3,
   "id": "6a031d65-126c-443d-a07c-d6e9143c8187",
   "metadata": {},
   "outputs": [],
   "source": [
    "spark.stop()"
   ]
  },
  {
   "cell_type": "code",
   "execution_count": null,
   "id": "ad0a69ab-f3ca-4b47-bce0-7dfeed94aaf9",
   "metadata": {},
   "outputs": [],
   "source": []
  }
 ],
 "metadata": {
  "kernelspec": {
   "display_name": "de-venv",
   "language": "python",
   "name": "de-venv"
  },
  "language_info": {
   "codemirror_mode": {
    "name": "ipython",
    "version": 3
   },
   "file_extension": ".py",
   "mimetype": "text/x-python",
   "name": "python",
   "nbconvert_exporter": "python",
   "pygments_lexer": "ipython3",
   "version": "3.10.12"
  }
 },
 "nbformat": 4,
 "nbformat_minor": 5
}
